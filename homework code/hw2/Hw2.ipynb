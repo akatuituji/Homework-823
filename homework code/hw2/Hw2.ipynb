{
 "cells": [
  {
   "cell_type": "markdown",
   "metadata": {},
   "source": [
    "4.A palindromic number reads the same both ways. The largest palindrome made from the product of two 2-digit numbers is 9009 = 91 × 99.\n",
    "\n",
    "Find the largest palindrome made from the product of two 3-digit numbers."
   ]
  },
  {
   "cell_type": "code",
   "execution_count": 18,
   "metadata": {},
   "outputs": [
    {
     "name": "stdout",
     "output_type": "stream",
     "text": [
      "906609\n"
     ]
    }
   ],
   "source": [
    "def findpal(lst):\n",
    "#this function is to find the largest palindrome made from the product of two 3-digit numbers.\n",
    "#parameter lst is the list that includes all the products of two 3-digit numbers\n",
    "#just sort the list from high to low and do a judgement\n",
    "    lst.sort(reverse=True)\n",
    "    for x in lst:\n",
    "        #to see if it is a palindromic \n",
    "        if str(x) == str(x)[::-1]:\n",
    "            #if so, return\n",
    "            print(x)           \n",
    "            break\n",
    "lst=[i*k for i in range(100,1000) for k in range(100,1000)]\n",
    "findpal(lst)"
   ]
  },
  {
   "cell_type": "markdown",
   "metadata": {},
   "source": [
    "38.Take the number 192 and multiply it by each of 1, 2, and 3:\n",
    "\n",
    "192 × 1 = 192\n",
    "192 × 2 = 384\n",
    "192 × 3 = 576\n",
    "By concatenating each product we get the 1 to 9 pandigital, 192384576. We will call 192384576 the concatenated product of 192 and (1,2,3)\n",
    "\n",
    "The same can be achieved by starting with 9 and multiplying by 1, 2, 3, 4, and 5, giving the pandigital, 918273645, which is the concatenated product of 9 and (1,2,3,4,5).\n",
    "\n",
    "What is the largest 1 to 9 pandigital 9-digit number that can be formed as the concatenated product of an integer with (1,2, ... , n) where n > 1?"
   ]
  },
  {
   "cell_type": "code",
   "execution_count": 15,
   "metadata": {},
   "outputs": [
    {
     "name": "stdout",
     "output_type": "stream",
     "text": [
      "123456789 1 [1, 2, 3, 4, 5, 6, 7, 8, 9]\n",
      "918273645 9 [1, 2, 3, 4, 5]\n",
      "192384576 192 [1, 2, 3]\n",
      "219438657 219 [1, 2, 3]\n",
      "273546819 273 [1, 2, 3]\n",
      "327654981 327 [1, 2, 3]\n",
      "672913458 6729 [1, 2]\n",
      "679213584 6792 [1, 2]\n",
      "692713854 6927 [1, 2]\n",
      "726914538 7269 [1, 2]\n",
      "729314586 7293 [1, 2]\n",
      "732914658 7329 [1, 2]\n",
      "769215384 7692 [1, 2]\n",
      "792315846 7923 [1, 2]\n",
      "793215864 7932 [1, 2]\n",
      "926718534 9267 [1, 2]\n",
      "927318546 9273 [1, 2]\n",
      "932718654 9327 [1, 2]\n"
     ]
    }
   ],
   "source": [
    "def pandmultip(maxnum): \n",
    "#this function is to find the largest 1 to 9 pandigital 9-digit number.\n",
    "#parameter maxmum is the largest number that can form 9-digit number after concatenated product of itself\n",
    "#just do a judgement to see if it has all 9 digits\n",
    "    for i in range(1, maxnum):\n",
    "        tmp = ''\n",
    "        for t in range(1, 10):\n",
    "            tmp += str(i * t)\n",
    "            if len(tmp) == 9:\n",
    "                if not '123456789'.strip(tmp):\n",
    "                    print(tmp,i, [k for k in range(1, t + 1)])\n",
    "                    break\n",
    "pandmultip(10000)"
   ]
  },
  {
   "cell_type": "markdown",
   "metadata": {},
   "source": [
    "100.If a box contains twenty-one coloured discs, composed of fifteen blue discs and six red discs, and two discs were taken at random, it can be seen that the probability of taking two blue discs, P(BB) = (15/21)×(14/20) = 1/2.\n",
    "\n",
    "The next such arrangement, for which there is exactly 50% chance of taking two blue discs at random, is a box containing eighty-five blue discs and thirty-five red discs.\n",
    "\n",
    "By finding the first arrangement to contain over 1012 = 1,000,000,000,000 discs in total, determine the number of blue discs that the box would contain."
   ]
  },
  {
   "cell_type": "code",
   "execution_count": 16,
   "metadata": {},
   "outputs": [
    {
     "name": "stdout",
     "output_type": "stream",
     "text": [
      "Total:4, blue:3\n",
      "Total:21, blue:15\n",
      "Total:120, blue:85\n",
      "Total:697, blue:493\n",
      "Total:4060, blue:2871\n",
      "Total:23661, blue:16731\n",
      "Total:137904, blue:97513\n",
      "Total:803761, blue:568345\n",
      "Total:4684660, blue:3312555\n",
      "Total:27304197, blue:19306983\n",
      "Total:159140520, blue:112529341\n",
      "Total:927538921, blue:655869061\n",
      "Total:5406093004, blue:3822685023\n",
      "Total:31509019101, blue:22280241075\n",
      "Total:183648021600, blue:129858761425\n",
      "Total:1070379110497, blue:756872327473\n",
      "756872327473\n"
     ]
    }
   ],
   "source": [
    "#blue:b, total:t\n",
    "#2b(b-1)=t(t-1)==>8b^2-8b+1=(2t-1)^2\n",
    "#pell's Equation2u^2-1=d^2==>2(2b-1)^2-1=(2t-1)^2\n",
    "#d=2t-1,u=2b-1. t=(d+1)/2, b=(1+u)/2\n",
    "#pell's Equation==>d^2-2u^2=-1\n",
    "def arrprob(minnumber):\n",
    "    d = 1\n",
    "    u = 1\n",
    "    while 1:\n",
    "        if (d + 1) / 2 > minnumber:\n",
    "            print(int((u + 1) / 2))\n",
    "            break\n",
    "        d, u = 3 * d + 4 * u, 2 * d + 3 * u\n",
    "        print('Total:%d, blue:%d'%((d + 1) / 2, (u + 1) / 2))\n",
    "arrprob(1e12)"
   ]
  },
  {
   "cell_type": "code",
   "execution_count": null,
   "metadata": {},
   "outputs": [],
   "source": []
  }
 ],
 "metadata": {
  "kernelspec": {
   "display_name": "Python 3",
   "language": "python",
   "name": "python3"
  },
  "language_info": {
   "codemirror_mode": {
    "name": "ipython",
    "version": 3
   },
   "file_extension": ".py",
   "mimetype": "text/x-python",
   "name": "python",
   "nbconvert_exporter": "python",
   "pygments_lexer": "ipython3",
   "version": "3.7.4"
  }
 },
 "nbformat": 4,
 "nbformat_minor": 2
}
